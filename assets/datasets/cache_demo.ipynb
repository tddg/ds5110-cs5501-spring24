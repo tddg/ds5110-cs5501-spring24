{
 "cells": [
  {
   "cell_type": "markdown",
   "id": "a6df1570-4539-4f9f-a90e-2502c33d0f53",
   "metadata": {},
   "source": [
    "You can always use ! to switch a cell environment to a shell terminal.\n",
    "Then you can install dependencies within a Jupyter Notebook without needing to switch to a shell terminal."
   ]
  },
  {
   "cell_type": "code",
   "execution_count": 3,
   "id": "e0977b60-6738-4afb-b0ff-aacdf560b097",
   "metadata": {},
   "outputs": [
    {
     "name": "stdout",
     "output_type": "stream",
     "text": [
      "/home/ubuntu/.local/bin/jupyter\n"
     ]
    }
   ],
   "source": [
    "#!which jupyter"
   ]
  },
  {
   "cell_type": "code",
   "execution_count": 4,
   "id": "a19086a8-c0f5-42df-997a-061984acd8cb",
   "metadata": {},
   "outputs": [
    {
     "name": "stdout",
     "output_type": "stream",
     "text": [
      "total 676K\n",
      "drwxr-x--- 10 ubuntu ubuntu 4.0K Jan 31 21:24 .\n",
      "drwxr-xr-x  3 root   root   4.0K Jan 22 21:10 ..\n",
      "-rw-------  1 ubuntu ubuntu 2.3K Jan 31 01:47 .bash_history\n",
      "-rw-r--r--  1 ubuntu ubuntu  220 Jan  6  2022 .bash_logout\n",
      "-rw-r--r--  1 ubuntu ubuntu 3.7K Jan  6  2022 .bashrc\n",
      "drwx------  3 ubuntu ubuntu 4.0K Jan 24 21:03 .cache\n",
      "drwx------  3 ubuntu ubuntu 4.0K Jan 29 21:37 .config\n",
      "drwxrwxr-x  2 ubuntu ubuntu 4.0K Jan 31 21:24 .ipynb_checkpoints\n",
      "drwxrwxr-x  3 ubuntu ubuntu 4.0K Jan 24 21:12 .ipython\n",
      "drwxrwxr-x  3 ubuntu ubuntu 4.0K Jan 24 22:21 .jupyter\n",
      "-rw-------  1 ubuntu ubuntu   52 Jan 24 20:56 .lesshst\n",
      "drwxrwxr-x  6 ubuntu ubuntu 4.0K Jan 24 21:04 .local\n",
      "-rw-r--r--  1 ubuntu ubuntu  807 Jan  6  2022 .profile\n",
      "drwx------  2 ubuntu ubuntu 4.0K Jan 22 21:10 .ssh\n",
      "-rw-r--r--  1 ubuntu ubuntu    0 Jan 22 21:26 .sudo_as_admin_successful\n",
      "-rw-------  1 ubuntu ubuntu 8.2K Jan 29 21:36 .viminfo\n",
      "-rw-rw-r--  1 ubuntu ubuntu   72 Jan 31 21:24 Untitled.ipynb\n",
      "-rw-rw-r--  1 ubuntu ubuntu  254 Jan 29 21:36 compute.py\n",
      "-rwxrwxr-x  1 ubuntu ubuntu  124 Jan 24 21:18 count.py\n",
      "drwxrwxr-x  2 ubuntu ubuntu 4.0K Jan 24 21:01 data\n",
      "-rw-rw-r--  1 ubuntu ubuntu  883 Jan 24 21:16 demo.ipynb\n",
      "-rw-rw-r--  1 ubuntu ubuntu 569K Jan 22 04:58 pg-sherlock_holmes.txt\n",
      "-rw-rw-r--  1 ubuntu ubuntu 8.9K Jan 24 22:31 python_int_float_demo.ipynb\n",
      "-rwxrwxr-x  1 ubuntu ubuntu  150 Jan 22 21:43 script.sh\n"
     ]
    }
   ],
   "source": [
    "#!ls -alh"
   ]
  },
  {
   "cell_type": "code",
   "execution_count": 5,
   "id": "c1172960-d0cb-4c60-864f-987bf7440cac",
   "metadata": {},
   "outputs": [],
   "source": [
    "import time\n",
    "import numpy as np\n",
    "\n",
    "# function to access data in row-major order\n",
    "def row_major_access(data):\n",
    "    sum = 0\n",
    "    for row in data:\n",
    "        for element in row:\n",
    "            sum += element\n",
    "    return sum\n",
    "\n",
    "# function to access data in column-major order\n",
    "def column_major_access(data):\n",
    "    sum = 0\n",
    "    for i in range(len(data[0])):\n",
    "        for row in data:\n",
    "            sum += row[i]\n",
    "    return sum"
   ]
  },
  {
   "cell_type": "code",
   "execution_count": 15,
   "id": "ffa28624-ef06-4a22-9a43-4d9e95448edb",
   "metadata": {},
   "outputs": [],
   "source": [
    "# initialize some 2D matrix data\n",
    "size = 5000\n",
    "data = np.random.rand(size, size)"
   ]
  },
  {
   "cell_type": "code",
   "execution_count": 16,
   "id": "e44d9f6f-99b7-478c-af4b-c5718b71a7eb",
   "metadata": {},
   "outputs": [
    {
     "name": "stdout",
     "output_type": "stream",
     "text": [
      "CPU times: user 2.65 s, sys: 0 ns, total: 2.65 s\n",
      "Wall time: 2.65 s\n"
     ]
    },
    {
     "data": {
      "text/plain": [
       "12499651.011940865"
      ]
     },
     "execution_count": 16,
     "metadata": {},
     "output_type": "execute_result"
    }
   ],
   "source": [
    "%%time \n",
    "\n",
    "row_major_access(data)"
   ]
  },
  {
   "cell_type": "code",
   "execution_count": 17,
   "id": "07b23484-44f9-4e25-bc67-c35ce471d8bb",
   "metadata": {},
   "outputs": [
    {
     "name": "stdout",
     "output_type": "stream",
     "text": [
      "CPU times: user 7.14 s, sys: 3.75 ms, total: 7.14 s\n",
      "Wall time: 7.14 s\n"
     ]
    },
    {
     "data": {
      "text/plain": [
       "12499651.011940502"
      ]
     },
     "execution_count": 17,
     "metadata": {},
     "output_type": "execute_result"
    }
   ],
   "source": [
    "%%time\n",
    "\n",
    "column_major_access(data)"
   ]
  },
  {
   "cell_type": "code",
   "execution_count": 20,
   "id": "0fc8c03c-0a23-4621-92b9-acf096c13834",
   "metadata": {},
   "outputs": [],
   "source": [
    "import torch\n",
    "import time"
   ]
  },
  {
   "cell_type": "code",
   "execution_count": 29,
   "id": "357eaba8-36f9-40ff-9dfe-7ed05d4614b7",
   "metadata": {},
   "outputs": [],
   "source": [
    "A = torch.rand(20_000, 20_000).T "
   ]
  },
  {
   "cell_type": "code",
   "execution_count": 30,
   "id": "6541cbfc-5952-472c-9283-6d8147cc8ff5",
   "metadata": {},
   "outputs": [
    {
     "data": {
      "text/plain": [
       "100.95715522766113"
      ]
     },
     "execution_count": 30,
     "metadata": {},
     "output_type": "execute_result"
    }
   ],
   "source": [
    "start = time.time()\n",
    "A.sum(dim = 0) # 0 means down: summing over columns\n",
    "end = time.time()\n",
    "(end - start) * 1000 # millisecond"
   ]
  },
  {
   "cell_type": "code",
   "execution_count": 31,
   "id": "439e19a6-d26e-4910-8c39-fc56d1168fbd",
   "metadata": {},
   "outputs": [
    {
     "data": {
      "text/plain": [
       "178.94911766052246"
      ]
     },
     "execution_count": 31,
     "metadata": {},
     "output_type": "execute_result"
    }
   ],
   "source": [
    "start = time.time()\n",
    "A.sum(dim = 1) # 1 means across: summing over rows\n",
    "end = time.time()\n",
    "(end - start) * 1000 # millisecond"
   ]
  }
 ],
 "metadata": {
  "kernelspec": {
   "display_name": "Python 3 (ipykernel)",
   "language": "python",
   "name": "python3"
  },
  "language_info": {
   "codemirror_mode": {
    "name": "ipython",
    "version": 3
   },
   "file_extension": ".py",
   "mimetype": "text/x-python",
   "name": "python",
   "nbconvert_exporter": "python",
   "pygments_lexer": "ipython3",
   "version": "3.10.12"
  }
 },
 "nbformat": 4,
 "nbformat_minor": 5
}
