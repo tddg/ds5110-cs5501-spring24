{
 "cells": [
  {
   "cell_type": "code",
   "execution_count": null,
   "id": "12d44309-cae4-4a88-87b8-3018c2c06983",
   "metadata": {},
   "outputs": [],
   "source": [
    "import ray\n",
    "import random\n",
    "import os\n",
    "import time\n",
    "import numpy as np"
   ]
  },
  {
   "cell_type": "markdown",
   "id": "b3f5fd79-079a-44df-b911-755fc7536ff9",
   "metadata": {},
   "source": [
    "## Step 1: Setting Up a Simple Maze Problem\n",
    "\n",
    "The application we are developing consists of a 2D maze game in which a single player can move in four directions. The maze is set up as a 5x5 grid (i.e., the size of the state space), with one of the 25 cells being the ultimate \"**goal**\" that the player, called the \"**seeker**\", must reach. Instead of providing a pre-determined solution, we will use a reinforcement learning (RL) algorithm so that the seeker can learn how to find the goal through repeated simulations of the maze. The seeker will be rewarded for reaching the goal and the algorithm will track which decisions were successful and which were not. To make the process more efficient, we will use the Ray API to parallelize both the simulations and the training of the RL algorithm."
   ]
  },
  {
   "cell_type": "markdown",
   "id": "e95f16d5-f23a-4514-a43b-00e07d591504",
   "metadata": {},
   "source": [
    "To start off, we will begin by creating the 2D maze. This involves creating a 5x5 grid in Python, which starts at (0, 0) and ends at (4, 4). We need to also define how the player can move around the grid. To do this, we will use a class called Discrete to represent the four cardinal directions of movement: up, down, left, and right. This class will allow us to move in multiple directions, rather than just four. "
   ]
  },
  {
   "cell_type": "code",
   "execution_count": null,
   "id": "e7608322-dc21-4ba0-917a-997040b91cef",
   "metadata": {},
   "outputs": [],
   "source": [
    "class Discrete:\n",
    "    def __init__(self, num_actions: int):\n",
    "        \"\"\" Discrete action space for num_actions.\n",
    "        Discrete(4) can be used as encoding moving in\n",
    "        one of the cardinal directions.\n",
    "        \"\"\"\n",
    "        self.n = num_actions\n",
    "\n",
    "    def sample(self):\n",
    "        return random.randint(0, self.n - 1) \n",
    "\n",
    "space = Discrete(4)\n",
    "print(space.sample()) "
   ]
  },
  {
   "cell_type": "markdown",
   "id": "9185f5f0-ba53-40a9-b8cd-89c685f24480",
   "metadata": {},
   "source": [
    "Sampling from a Discrete(4) distribution will randomly generate one of the numbers 0, 1, 2, or 3. These numbers can be interpreted in any way we choose, such as representing the directions \"down,\" \"left,\" \"right,\" and \"up,\" respectively. In order to create a maze and set the position of the player and the goal, we will create a Python class called Environment. This class will be named \"Environment\" because the maze serves as the environment in which the player exists. To make things easier, we will always place the player at the coordinates (0, 0) and the goal at (4, 4). In order to make the player move and attempt to reach the goal, we will initialize the Environment with an action space of Discrete(4)."
   ]
  },
  {
   "cell_type": "markdown",
   "id": "d208d290-92d2-4d3a-ab69-fb45fb500b24",
   "metadata": {},
   "source": [
    "To complete the setup for our maze environment, we need to encode the seeker's position as a `Discrete(5*5)`. This will allow us to later implement an algorithm that keeps track of which actions lead to successful outcomes for different seeker positions. In reinforcement learning terminology, the information that is accessible to the player is known as an observation. Similarly, we can define an observation space for the seeker. The following code demonstrates this concept:"
   ]
  },
  {
   "cell_type": "code",
   "execution_count": null,
   "id": "c7a538c1-2110-4ade-b1f7-6545c92ec148",
   "metadata": {},
   "outputs": [],
   "source": [
    "class Environment:\n",
    "    def __init__(self,  *args, **kwargs):\n",
    "        self.seeker, self.goal = (0, 0), (4, 4) # Seeker starts from 0,0 while the goal is located at 4,4\n",
    "        #self.seeker, self.goal = (0, 0), (9, 9) # Seeker starts from 0,0 while the goal is located at 9,9 (for a 10*10 space)\n",
    "        self.info = {'seeker': self.seeker, 'goal': self.goal}\n",
    "\n",
    "        self.action_space = Discrete(4) # Initialize an action space of 4 directions\n",
    "        self.observation_space = Discrete(5*5) # Reuse the same class to initialize an observation space of 5*5\n",
    "        #self.observation_space = Discrete(10*10)\n",
    "\n",
    "    def reset(self):\n",
    "        \"\"\"Reset seeker position and return observations.\"\"\"\n",
    "        self.seeker = (0, 0)\n",
    "\n",
    "        return self.get_observation()\n",
    "\n",
    "    def get_observation(self):\n",
    "        \"\"\"Encode the seeker position as integer\"\"\"\n",
    "        return 5 * self.seeker[0] + self.seeker[1]\n",
    "        #return 10 * self.seeker[0] + self.seeker[1]\n",
    "\n",
    "    def get_reward(self):\n",
    "        \"\"\"Reward finding the goal\"\"\"\n",
    "        return 1 if self.seeker == self.goal else 0 # Seeker gets a reward of 1 if it hits the goal\n",
    "\n",
    "    def is_done(self):\n",
    "        \"\"\"We're done if we found the goal\"\"\"\n",
    "        return self.seeker == self.goal # Seeker succeeds if its position is the same as the goal\n",
    "\n",
    "    def step(self, action):\n",
    "        \"\"\"Take a step in a direction and return all available information.\"\"\"\n",
    "        if action == 0:  # move down\n",
    "            self.seeker = (min(self.seeker[0] + 1, 4), self.seeker[1])\n",
    "        elif action == 1:  # move left\n",
    "            self.seeker = (self.seeker[0], max(self.seeker[1] - 1, 0))\n",
    "        elif action == 2:  # move up\n",
    "            self.seeker = (max(self.seeker[0] - 1, 0), self.seeker[1])\n",
    "        elif action == 3:  # move right\n",
    "            self.seeker = (self.seeker[0], min(self.seeker[1] + 1, 4))\n",
    "        else:\n",
    "            raise ValueError(\"Invalid action\")\n",
    "\n",
    "        obs = self.get_observation()\n",
    "        rew = self.get_reward()\n",
    "        done = self.is_done()\n",
    "        return obs, rew, done, self.info\n",
    "\n",
    "    def render(self, *args, **kwargs):\n",
    "        \"\"\"We override this method here so clear the output in Jupyter notebooks.\n",
    "        The previous implementation works well in the terminal, but does not clear\n",
    "        the screen in interactive environments.\n",
    "        \"\"\"\n",
    "        os.system('cls' if os.name == 'nt' else 'clear')\n",
    "        try:\n",
    "            from IPython.display import clear_output\n",
    "            clear_output(wait=True)\n",
    "        except Exception:\n",
    "            pass\n",
    "        grid = [['| ' for _ in range(5)] + [\"|\\n\"] for _ in range(5)]\n",
    "        #grid = [['| ' for _ in range(10)] + [\"|\\n\"] for _ in range(10)]\n",
    "        grid[self.goal[0]][self.goal[1]] = '|G'\n",
    "        grid[self.seeker[0]][self.seeker[1]] = '|S'\n",
    "        print(''.join([''.join(grid_row) for grid_row in grid]))"
   ]
  },
  {
   "cell_type": "markdown",
   "id": "df0995ab-328d-43c0-b5e6-6a36c6538653",
   "metadata": {},
   "source": [
    "We have finished building the Environment class that is used in our 2D-maze game. This class allows us to move through the game, determine when it has ended, and reset it. The player, referred to as the seeker, can also view the game's environment and receive rewards for reaching the goal. Now, we can use this implementation to play a game of finding the goal using a seeker that randomly selects actions by creating a new Environment, applying actions to it, and displaying the environment until the game ends."
   ]
  },
  {
   "cell_type": "code",
   "execution_count": null,
   "id": "4a1c421d-7254-4f13-9305-2e9a09ad503e",
   "metadata": {},
   "outputs": [],
   "source": [
    "environment = Environment() # Create a game environment"
   ]
  },
  {
   "cell_type": "code",
   "execution_count": null,
   "id": "0a26f807-87cc-465c-84a6-a2908f7bd2b4",
   "metadata": {},
   "outputs": [],
   "source": [
    "t0 = time.time()\n",
    "while not environment.is_done():\n",
    "    random_action = environment.action_space.sample() # Draw an action randomly\n",
    "    environment.step(random_action) # Take the randomly drawn action\n",
    "    time.sleep(0.1)\n",
    "    environment.render() # Render the 2D maze graph\n",
    "t1 = time.time()\n",
    "print(\"Random walk takes\", t1-t0, \"seconds\")"
   ]
  },
  {
   "cell_type": "markdown",
   "id": "802e54cf-d311-404f-9587-fe149d40fffd",
   "metadata": {},
   "source": [
    "If you run the program on your EC2 instance, you will eventually see that the seeker has found the goal and the game is over. It may take some time if you are unlucky. While you may argue that this is a very simple problem that can be solved by simply taking **8 steps** (4 right and 4 down in any order), the purpose of using machine learning in this situation is to be able to tackle more difficult problems in the future. The idea is to create an algorithm that can figure out how to play the game on its own by observing the game, making decisions about what to do next, and receiving rewards for its actions."
   ]
  },
  {
   "cell_type": "markdown",
   "id": "4b146f4a-ae34-4920-a7e9-f94ff58a93e7",
   "metadata": {},
   "source": [
    "If you are interested in doing so, now is an appropriate time to make the game more complex on your own. As long as you do not alter the interface established for the Environment class, you have the option to modify the game in numerous ways. Here are a few ideas:\n",
    "\n",
    "- *Make the grid a 10x10 size or randomly determine the initial position of the seeker.*\n",
    "- *Make the outer walls of the grid hazardous. If you try to touch them, you will receive a penalty of -100.*\n",
    "- *Add obstacles in the grid that the seeker cannot pass through.*\n",
    "\n",
    "If you are feeling particularly adventurous, you could also randomly determine the goal position. However, be mindful that the seeker currently has no information about the goal position through the get_observation method. You may want to consider tackling this last exercise if you want to try it out yourself."
   ]
  },
  {
   "cell_type": "markdown",
   "id": "939f1b22-adc0-4793-aa14-d7f4a55c3049",
   "metadata": {},
   "source": [
    "## Step 2: Building a Simulation"
   ]
  },
  {
   "cell_type": "markdown",
   "id": "982f4dd0-cf6e-4dae-8ee3-ab6b1becacc4",
   "metadata": {},
   "source": [
    "Now that the Environment class has been implemented, what is required to help the seeker learn how to play the game effectively? How can it consistently find the goal in the minimum required number of **eight** steps? To assist with this, we have provided the maze environment with reward information so that the seeker can use this to learn how to play the game. In reinforcement learning, the player repeatedly plays the game and learns from their experiences. The player is often referred to as an agent that takes actions in the environment, observes its state, and receives a reward. The better the agent learns, the better it becomes at interpreting the current game state and finding actions that lead to more rewarding outcomes."
   ]
  },
  {
   "cell_type": "markdown",
   "id": "9a26a817-6c7a-48b8-a843-0992af7f8a87",
   "metadata": {},
   "source": [
    "In order to use any reinforcement learning algorithm, it is necessary to have a way to simulate the game repeatedly in order to gather experience data. Therefore, we will be creating a simple Simulation class soon. Additionally, we need the concept of a Policy, which is a way to determine the actions to take in a game. Currently, the only option we have is to randomly sample actions for our seeker. However, a `Policy` allows us to select better actions based on the current state of the game. A `Policy` is defined as a class with a `get_action` method that takes a game state and returns an action."
   ]
  },
  {
   "cell_type": "markdown",
   "id": "70cb21c7-86c3-424f-b294-330ee115e63a",
   "metadata": {},
   "source": [
    "In our game, the seeker has `25` possible states on the grid and can take 4 actions. One strategy is to assign high values to state-action pairs that will result in a high reward and low values to those that will not. For example, moving down or right is usually a good choice, while moving left or up is not. We can create a `25x4` table of all possible state-action pairs and store it in our `Policy`. Then, when given a state, our policy can return the highest value for any action. While figuring out the best values for these pairs is a challenge, we can start by implementing this `Policy` and worry about finding a suitable algorithm later."
   ]
  },
  {
   "cell_type": "code",
   "execution_count": null,
   "id": "22203304-14ec-40a1-9e33-1ebadc47cc7e",
   "metadata": {},
   "outputs": [],
   "source": [
    "class Policy:\n",
    "\n",
    "    def __init__(self, env):\n",
    "        \"\"\"A Policy suggests actions based on the current state.\n",
    "        We do this by tracking the value of each state-action pair.\n",
    "        \"\"\"\n",
    "        self.state_action_table = [\n",
    "            [0 for _ in range(env.action_space.n)]   # The action dimension \n",
    "            for _ in range(env.observation_space.n)  # The observation (state) dimension\n",
    "        ]\n",
    "        self.action_space = env.action_space\n",
    "\n",
    "    def get_action(self, state, explore=True, epsilon=0.1):\n",
    "        \"\"\"Explore randomly or exploit the best value currently available.\"\"\"\n",
    "        if explore and random.uniform(0, 1) < epsilon:\n",
    "            return self.action_space.sample() # Explore new actions randomly\n",
    "        return np.argmax(self.state_action_table[state]) # Exploit best existing actions"
   ]
  },
  {
   "cell_type": "markdown",
   "id": "a4cf3abe-c5d6-4d53-adac-55a4f51bdcc0",
   "metadata": {},
   "source": [
    "I've included a small detail in the Policy definition that could potentially be confusing. The `get_action` method has an explore parameter. The purpose of this is to allow for exploration in situations where the current policy is not effective, such as when it always instructs the player to move left. In other words, sometimes it is necessary to try new approaches instead of relying solely on the current understanding of the game. As previously mentioned, we have not yet discussed how to improve the values in the `state_action_table` for the policy. For now, just keep in mind that the policy provides the actions to follow when playing the maze game."
   ]
  },
  {
   "cell_type": "markdown",
   "id": "68eea2b8-b085-4efd-8949-50799e6b1259",
   "metadata": {},
   "source": [
    "The Simulation class is responsible for running a simulation of a game by taking in an Environment and following a given Policy until the goal is achieved and the game is completed. This process, known as a \"`rollout`\", generates a collection of observations and actions, which are referred to as the \"`experience`\" gained from the simulation. The Simulation class includes a rollout method that executes a full game and returns the resulting experience. The following code represents the implementation of the `Simulation` class:"
   ]
  },
  {
   "cell_type": "code",
   "execution_count": null,
   "id": "df13e6d5-7105-4f2e-9e74-aabc573363c1",
   "metadata": {},
   "outputs": [],
   "source": [
    "class Simulation(object):\n",
    "    def __init__(self, env):\n",
    "        \"\"\"Simulates rollouts of an environment, given a policy to follow.\"\"\"\n",
    "        self.env = env\n",
    "\n",
    "    def rollout(self, policy, render=False, explore=True, epsilon=0.1):\n",
    "        \"\"\"Returns experiences for a policy rollout.\"\"\"\n",
    "        experiences = []\n",
    "        state = self.env.reset()\n",
    "        done = False\n",
    "        while not done:\n",
    "            action = policy.get_action(state, explore, epsilon)\n",
    "            #print(action)\n",
    "            next_state, reward, done, info = self.env.step(action)\n",
    "            experiences.append([state, action, reward, next_state])\n",
    "            state = next_state\n",
    "            if render:\n",
    "                time.sleep(0.05)\n",
    "                self.env.render()\n",
    "\n",
    "        return experiences"
   ]
  },
  {
   "cell_type": "markdown",
   "id": "4b351539-b87d-4824-a57a-99e9e3060fb9",
   "metadata": {},
   "source": [
    "We will be using a specific algorithm to learn from the `experiences` we collect in a rollout, which are comprised of four values: the current state, the action taken, the reward received, and the next state. These values are necessary for our algorithm, but other algorithms may require different experience values. Although our policy has not yet learned anything, we can test its interface by creating a Simulation object, using the rollout method on the policy, and then printing out the `state_action_table` of it."
   ]
  },
  {
   "cell_type": "code",
   "execution_count": null,
   "id": "f26d45a3-b533-4d1b-bb3b-be97831b9da0",
   "metadata": {},
   "outputs": [],
   "source": [
    "%%time\n",
    "\n",
    "untrained_policy = Policy(environment)\n",
    "sim = Simulation(environment)\n",
    "\n",
    "exp = sim.rollout(untrained_policy, render=True, epsilon=1.0)\n",
    "for row in untrained_policy.state_action_table:\n",
    "    print(row)"
   ]
  },
  {
   "cell_type": "markdown",
   "id": "7d2c64de-4856-43f4-9895-d051d7ba6fb2",
   "metadata": {},
   "source": [
    "In order to accurately address the issue, both simulation and a policy were utilized. The only remaining task is to create a clever method for updating the policy's internal state based on the collected data so that it is able to effectively learn how to play the maze game."
   ]
  },
  {
   "cell_type": "markdown",
   "id": "91e1a709-310d-411d-97dc-6e4fa8b3755e",
   "metadata": {},
   "source": [
    "## Step 3: Training a Reinforcement Learning Model\n",
    "\n",
    "Suppose we have a set of experiences from a few games. How can we effectively update the values in the `state_action_table` of our `Policy`? One way to do this is by considering a specific situation, such as being at position `(4,2)` and deciding to go right, which brings us to position `(4,3)` just one step away from the goal (`(4,4)`). In this case, continuing to go right would result in a reward of `1`, indicating that the current state `(4,2)` combined with the action of going right should have a high value. On the other hand, going left in the same situation does not lead to any reward, so the value of the state-action pair involving left movement should be low."
   ]
  },
  {
   "cell_type": "markdown",
   "id": "2bdfe75e-5140-40c8-b18a-758f147f15bd",
   "metadata": {},
   "source": [
    "The expected reward from taking an action from the next state by consulting our state_action_table for the policy. This allows us to evaluate the potential benefits of taking a certain action after reaching the next state. Essentially, this is how we define an experience – by being in a specific state, taking an action that leads to a reward, and then transitioning to the next state.\n",
    "\n",
    "```{python}\n",
    "next_max = np.max(policy.state_action_table[next_state])\n",
    "```"
   ]
  },
  {
   "cell_type": "markdown",
   "id": "19bfb7f2-2392-4f8e-9bf7-9e7348861d61",
   "metadata": {},
   "source": [
    "There are several ways to compare the knowledge of this value to the current state-action value, which is the value stored in the policy's state-action table for the given state and action. One option is to calculate a weighted sum of the old value and the expected value, using a formula such as `new_value = 0.9 * value + 0.1 * next_max`. The weights of `0.9` and `0.1` have been chosen to reflect the preference for keeping the old value, and the important factor is that the weights sum to 1. However, this approach does not take into account the important information from the reward, which should be given more trust than the projected `next_max` value. To account for this, it may be beneficial to discount the `next_max` value by 10%. The updated state-action value would then be calculated as follows:\n",
    "\n",
    "```{python}\n",
    "new_value = 0.9 * value + 0.1 * (reward + 0.9 * next_max)\n",
    "```"
   ]
  },
  {
   "cell_type": "markdown",
   "id": "77c31ff5-bcda-4040-b656-a3c0c7ea95f6",
   "metadata": {},
   "source": [
    "If you have a lot of experience with reasoning like this, the previous paragraphs may be overwhelming. However, if you have understood the explanations until now, you will probably find the rest of this notebook easy to follow. Mathematically, this was the most difficult part of this example. If you have worked with RL before, you will have realized that this is an implementation of the Q-Learning algorithm. It is called this because the state-action table can be represented as a function `Q(state, action)` that returns values for these pairs.\n",
    "\n",
    "We’re almost there, so let’s formalize this procedure by implementing an `update_policy` function for a policy and collected experiences:"
   ]
  },
  {
   "cell_type": "code",
   "execution_count": null,
   "id": "5faac23d-bcfd-4887-b73c-bc9b3ac708cf",
   "metadata": {},
   "outputs": [],
   "source": [
    "def update_policy(policy, experiences, weight=0.1, discount_factor=0.9):\n",
    "    \"\"\"Updates a given policy with a list of (state, action, reward, state)\n",
    "    experiences.\"\"\"\n",
    "    for state, action, reward, next_state in experiences:\n",
    "        next_max = np.max(policy.state_action_table[next_state])\n",
    "        value = policy.state_action_table[state][action]\n",
    "        new_value = (1 - weight) * value + weight * \\\n",
    "                    (reward + discount_factor * next_max) # Train the next value\n",
    "        policy.state_action_table[state][action] = new_value"
   ]
  },
  {
   "cell_type": "markdown",
   "id": "38017f50-4ea5-4318-b583-34b4e65a3cec",
   "metadata": {},
   "source": [
    "With this we can easily define a function to train a policy as follows. The `train_policy` function follows the steps of initializing a policy and a simulation, running the simulation multiple times, collecting the experiences for each game through a rollout, and updating the policy using the update_policy function with the collected experiences."
   ]
  },
  {
   "cell_type": "code",
   "execution_count": null,
   "id": "de313891-7881-4432-9a05-49a1f78236d1",
   "metadata": {},
   "outputs": [],
   "source": [
    "%%time\n",
    "\n",
    "def train_policy(env, num_episodes=100, weight=0.1, discount_factor=0.9):\n",
    "    \"\"\"Training a policy by updating it with rollout experiences.\"\"\"\n",
    "    policy = Policy(env)\n",
    "    sim = Simulation(env)\n",
    "    for _ in range(num_episodes):\n",
    "        experiences = sim.rollout(policy)\n",
    "        update_policy(policy, experiences, weight, discount_factor)\n",
    "\n",
    "    return policy\n",
    "\n",
    "trained_policy = train_policy(environment)"
   ]
  },
  {
   "cell_type": "code",
   "execution_count": null,
   "id": "aa6723f2-4dad-43b3-861a-e00b4e218cb4",
   "metadata": {},
   "outputs": [],
   "source": [
    "trained_policy.state_action_table"
   ]
  },
  {
   "cell_type": "markdown",
   "id": "a51587ff-5aa8-46a1-9e22-55b46d69d865",
   "metadata": {},
   "source": [
    "In the field of RL, a full play-through of the maze game is referred to as an episode. That is why the `train_policy` function has an argument called `num_episodes`, rather than `num_games`. Now that we have a trained policy, we want to see how well it performs. Previously, we ran random policies a couple of times to get an idea of their effectiveness in the maze problem. However, we now want to properly evaluate our trained policy over multiple games and see how it performs on average. Specifically, we will run our simulation for several episodes and measure the number of steps it takes to reach the goal in each episode. To do this, we will implement an `evaluate_policy` function that accomplishes this task."
   ]
  },
  {
   "cell_type": "code",
   "execution_count": null,
   "id": "09718f2c-fbea-426c-bee4-2e4cffd6be24",
   "metadata": {},
   "outputs": [],
   "source": [
    "def evaluate_policy(env, policy, num_episodes=10):\n",
    "    \"\"\"Evaluate a trained policy through rollouts.\"\"\"\n",
    "    simulation = Simulation(env)\n",
    "    steps = 0\n",
    "\n",
    "    for _ in range(num_episodes):\n",
    "        experiences = simulation.rollout(policy, render=True, explore=False)\n",
    "        steps += len(experiences)\n",
    "\n",
    "    print(f\"{steps / num_episodes} steps on average \"\n",
    "          f\"for a total of {num_episodes} episodes.\")\n",
    "\n",
    "    return steps / num_episodes\n",
    "\n",
    "evaluate_policy(environment, trained_policy)"
   ]
  },
  {
   "cell_type": "markdown",
   "id": "12997fec-2a28-4a86-a692-f382f43f1cc8",
   "metadata": {},
   "source": [
    "To summarize, the policy that has been trained is capable of finding the best solutions for the maze game. This means that you have successfully implemented your first RL algorithm from scratch. Now, consider whether the evaluation function would still be effective if the seeker was placed in random starting positions. Try making the necessary adjustments to find out. Additionally, think about the assumptions that were made when designing the algorithm, such as the assumption that all state-action pairs can be listed. Would this algorithm still work effectively if there were millions of states and thousands of actions?"
   ]
  },
  {
   "cell_type": "markdown",
   "id": "9a99377b-fd97-491a-a64c-f714c60f9063",
   "metadata": {},
   "source": [
    "## Step 4: Building a Distributed Ray Application"
   ]
  },
  {
   "cell_type": "markdown",
   "id": "f5c6ba97-6ccf-4fdd-bff1-4c2568436c93",
   "metadata": {},
   "source": [
    "You might be wondering how this example relates to Ray. To turn this RL experiment into a distributed Ray application, we only need to write three code snippets. First, we will make the Simulation a Ray actor with a few lines of code. Next, we will define a parallel version of train_policy that is similar in structure to the original, but only parallelizes the rollouts, not the policy updates. Finally, we will train and evaluate the policy as before, but using the parallel version of train_policy.\n",
    "\n",
    "The first step is to implement a Ray actor called `SimulationActor`:"
   ]
  },
  {
   "cell_type": "code",
   "execution_count": null,
   "id": "2216e012-2baa-40de-a7b6-2d1ce111c05a",
   "metadata": {},
   "outputs": [],
   "source": [
    "ray.init(address=\"ray://172.31.83.227:10001\")"
   ]
  },
  {
   "cell_type": "code",
   "execution_count": null,
   "id": "cb4f109b-125e-4c3a-8d1c-920dabfacca8",
   "metadata": {},
   "outputs": [],
   "source": [
    "@ray.remote\n",
    "class SimulationActor(Simulation): # SimulatorActor class inherits all methods from parent class Simulator\n",
    "    \"\"\"Ray actor for a simulation.\"\"\"\n",
    "    def __init__(self):\n",
    "        env = Environment()\n",
    "        super().__init__(env) # super().__init__() initializes all methods inherited from parent class Simulator"
   ]
  },
  {
   "cell_type": "markdown",
   "id": "aaf641e0-5eae-4b82-a1a2-1f868b6848e0",
   "metadata": {},
   "source": [
    "You should be able to understand the code presented in this section thanks to the knowledge of Ray Core that is covered in Lecture 6. While it may take some time to become comfortable with writing this type of code yourself, the concepts should be familiar to you. In the following example, we will demonstrate how to use a local Ray cluster to distribute the workload of reinforcement learning (RL) by creating a policy on the driver and four `SimulationActor` instances to perform distributed rollouts. We will store the policy in the object store with ray.put and pass it as an argument to the remote rollout calls to gather experiences over a specified number of training episodes. The finished rollouts will be retrieved with ray.wait, taking into account that some may finish before others, and the policy will be updated with the collected experiences. Finally, the trained policy will be returned."
   ]
  },
  {
   "cell_type": "code",
   "execution_count": null,
   "id": "1530e176-f3eb-4cba-90a5-d318d2cb1eb2",
   "metadata": {},
   "outputs": [],
   "source": [
    "def train_policy_parallel(env, num_episodes=100, num_simulations=3):\n",
    "    \"\"\"Parallel policy training function.\"\"\"\n",
    "    policy = Policy(env)\n",
    "    simulations = [SimulationActor.remote() for _ in range(num_simulations)]\n",
    "\n",
    "    policy_ref = ray.put(policy)\n",
    "    for _ in range(num_episodes):\n",
    "        experiences = [sim.rollout.remote(policy_ref) for sim in simulations]\n",
    "\n",
    "        while len(experiences) > 0:\n",
    "            finished, experiences = ray.wait(experiences)\n",
    "            for xp in ray.get(finished):\n",
    "                update_policy(policy, xp)\n",
    "\n",
    "    return policy"
   ]
  },
  {
   "cell_type": "code",
   "execution_count": null,
   "id": "249eb151-753a-4dfc-8333-67411f3b0377",
   "metadata": {},
   "outputs": [],
   "source": [
    "parallel_policy = train_policy_parallel(environment)"
   ]
  },
  {
   "cell_type": "code",
   "execution_count": null,
   "id": "ebe750c2-c921-47e4-a99d-85ef4cb58647",
   "metadata": {},
   "outputs": [],
   "source": [
    "evaluate_policy(environment, parallel_policy)"
   ]
  },
  {
   "cell_type": "markdown",
   "id": "fbdc1187-1608-4144-b2cf-7a322cc2c0c4",
   "metadata": {},
   "source": [
    "The output of the two lines is the same as when we previously ran the single version of the RL training for the maze. It's helpful to compare `train_policy_parallel` and `train_policy` line by line because they have the same overall structure. All we had to do to parallelize the training process was to use the `ray.remote` decorator on a class appropriately and then make the correct remote calls. It's helpful to have some experience to do this correctly, but it's worth noting how little time we spent considering distributed computing and how much time we were able to focus on the actual application code. We didn't need to completely change our programming approach and were able to handle the problem in a natural way. This is what we want and Ray excels at providing this kind of flexibility. \n",
    "\n",
    "To conclude, let's briefly look at the execution graph of the Ray application we just created, as shown in the following figure."
   ]
  },
  {
   "cell_type": "markdown",
   "id": "a9b7a161-04a1-42e6-8cf1-f4a63893a4d8",
   "metadata": {},
   "source": [
    "![Task dependency](https://raw.githubusercontent.com/maxpumperla/learning_ray/main/notebooks/images/chapter_03/train_policy.png)"
   ]
  }
 ],
 "metadata": {
  "kernelspec": {
   "display_name": "Python 3 (ipykernel)",
   "language": "python",
   "name": "python3"
  },
  "language_info": {
   "codemirror_mode": {
    "name": "ipython",
    "version": 3
   },
   "file_extension": ".py",
   "mimetype": "text/x-python",
   "name": "python",
   "nbconvert_exporter": "python",
   "pygments_lexer": "ipython3",
   "version": "3.10.12"
  }
 },
 "nbformat": 4,
 "nbformat_minor": 5
}
