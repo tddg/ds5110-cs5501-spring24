{
 "cells": [
  {
   "cell_type": "markdown",
   "id": "d7bb9671-d1f2-42e5-8223-1ee49defcde1",
   "metadata": {},
   "source": [
    "# Int behavior"
   ]
  },
  {
   "cell_type": "code",
   "execution_count": 4,
   "id": "14deb77e-9f35-4ed1-8aaa-e24f4a3da8dd",
   "metadata": {},
   "outputs": [
    {
     "data": {
      "text/plain": [
       "340282366920938463463374607431768211456"
      ]
     },
     "execution_count": 4,
     "metadata": {},
     "output_type": "execute_result"
    }
   ],
   "source": [
    "import sys\n",
    "\n",
    "sys.set_int_max_str_digits(50000)\n",
    "2 ** 128\n",
    "#2 ** 128000"
   ]
  },
  {
   "cell_type": "markdown",
   "id": "6517748f-540f-4159-8002-031f85710aa1",
   "metadata": {},
   "source": [
    "# Float behavior\n"
   ]
  },
  {
   "cell_type": "code",
   "execution_count": 7,
   "id": "dd9e7007-8d06-4137-927e-327c5d281eab",
   "metadata": {},
   "outputs": [],
   "source": [
    "from sys import float_info # hold info about python3's built-in float"
   ]
  },
  {
   "cell_type": "code",
   "execution_count": 8,
   "id": "7bd9ae65-a7e5-4ffc-b31d-7b09c711e079",
   "metadata": {},
   "outputs": [
    {
     "data": {
      "text/plain": [
       "['__add__',\n",
       " '__class__',\n",
       " '__class_getitem__',\n",
       " '__contains__',\n",
       " '__delattr__',\n",
       " '__dir__',\n",
       " '__doc__',\n",
       " '__eq__',\n",
       " '__format__',\n",
       " '__ge__',\n",
       " '__getattribute__',\n",
       " '__getitem__',\n",
       " '__getnewargs__',\n",
       " '__gt__',\n",
       " '__hash__',\n",
       " '__init__',\n",
       " '__init_subclass__',\n",
       " '__iter__',\n",
       " '__le__',\n",
       " '__len__',\n",
       " '__lt__',\n",
       " '__match_args__',\n",
       " '__mul__',\n",
       " '__ne__',\n",
       " '__new__',\n",
       " '__reduce__',\n",
       " '__reduce_ex__',\n",
       " '__repr__',\n",
       " '__rmul__',\n",
       " '__setattr__',\n",
       " '__sizeof__',\n",
       " '__str__',\n",
       " '__subclasshook__',\n",
       " 'count',\n",
       " 'dig',\n",
       " 'epsilon',\n",
       " 'index',\n",
       " 'mant_dig',\n",
       " 'max',\n",
       " 'max_10_exp',\n",
       " 'max_exp',\n",
       " 'min',\n",
       " 'min_10_exp',\n",
       " 'min_exp',\n",
       " 'n_fields',\n",
       " 'n_sequence_fields',\n",
       " 'n_unnamed_fields',\n",
       " 'radix',\n",
       " 'rounds']"
      ]
     },
     "execution_count": 8,
     "metadata": {},
     "output_type": "execute_result"
    }
   ],
   "source": [
    "dir(float_info)"
   ]
  },
  {
   "cell_type": "code",
   "execution_count": 9,
   "id": "a8fb151a-3695-4475-85ad-7edd635e5a87",
   "metadata": {},
   "outputs": [
    {
     "data": {
      "text/plain": [
       "1.7976931348623157e+308"
      ]
     },
     "execution_count": 9,
     "metadata": {},
     "output_type": "execute_result"
    }
   ],
   "source": [
    "float_info.max"
   ]
  },
  {
   "cell_type": "code",
   "execution_count": 10,
   "id": "4452f2b4-8fc2-4ed4-8135-2d35182e90b0",
   "metadata": {},
   "outputs": [
    {
     "data": {
      "text/plain": [
       "2.2250738585072014e-308"
      ]
     },
     "execution_count": 10,
     "metadata": {},
     "output_type": "execute_result"
    }
   ],
   "source": [
    "float_info.min"
   ]
  },
  {
   "cell_type": "code",
   "execution_count": 11,
   "id": "b3523200-ea69-4511-8177-8875c0fe401a",
   "metadata": {},
   "outputs": [],
   "source": [
    "big = float_info.max\n",
    "small = -big"
   ]
  },
  {
   "cell_type": "code",
   "execution_count": 12,
   "id": "7cd4a924-5213-447c-8c32-620e279e59ee",
   "metadata": {},
   "outputs": [
    {
     "data": {
      "text/plain": [
       "True"
      ]
     },
     "execution_count": 12,
     "metadata": {},
     "output_type": "execute_result"
    }
   ],
   "source": [
    "big + 1 == big"
   ]
  },
  {
   "cell_type": "code",
   "execution_count": 13,
   "id": "cd210547-ae80-4ddb-bdd8-6868ff632062",
   "metadata": {},
   "outputs": [
    {
     "data": {
      "text/plain": [
       "False"
      ]
     },
     "execution_count": 13,
     "metadata": {},
     "output_type": "execute_result"
    }
   ],
   "source": [
    "big + big == big"
   ]
  },
  {
   "cell_type": "code",
   "execution_count": 14,
   "id": "5bee4881-82e4-44ff-83c4-2d0a4d10ac77",
   "metadata": {},
   "outputs": [
    {
     "data": {
      "text/plain": [
       "inf"
      ]
     },
     "execution_count": 14,
     "metadata": {},
     "output_type": "execute_result"
    }
   ],
   "source": [
    "big + big"
   ]
  },
  {
   "cell_type": "code",
   "execution_count": 15,
   "id": "fba7c1c8-8142-44df-966b-a352b8eacaac",
   "metadata": {},
   "outputs": [
    {
     "data": {
      "text/plain": [
       "0.0"
      ]
     },
     "execution_count": 15,
     "metadata": {},
     "output_type": "execute_result"
    }
   ],
   "source": [
    "big + small"
   ]
  },
  {
   "cell_type": "code",
   "execution_count": 16,
   "id": "fa5ed0ab-5a65-40c1-b828-218c3820627c",
   "metadata": {},
   "outputs": [
    {
     "data": {
      "text/plain": [
       "nan"
      ]
     },
     "execution_count": 16,
     "metadata": {},
     "output_type": "execute_result"
    }
   ],
   "source": [
    "big*2 + small*2"
   ]
  },
  {
   "cell_type": "code",
   "execution_count": 17,
   "id": "0bd915c2-1103-4c25-9245-d967f8cce346",
   "metadata": {},
   "outputs": [
    {
     "data": {
      "text/plain": [
       "15"
      ]
     },
     "execution_count": 17,
     "metadata": {},
     "output_type": "execute_result"
    }
   ],
   "source": [
    "float_info.dig"
   ]
  },
  {
   "cell_type": "code",
   "execution_count": 18,
   "id": "3527c0fd-fcf1-4e97-b1e6-6aba5d858234",
   "metadata": {},
   "outputs": [
    {
     "data": {
      "text/plain": [
       "False"
      ]
     },
     "execution_count": 18,
     "metadata": {},
     "output_type": "execute_result"
    }
   ],
   "source": [
    "a = 1.23456781234567\n",
    "b = 1.23456781234568\n",
    "a == b"
   ]
  },
  {
   "cell_type": "code",
   "execution_count": 19,
   "id": "b403aae2-d1c7-4d13-acff-9d7a8cc59755",
   "metadata": {},
   "outputs": [
    {
     "data": {
      "text/plain": [
       "True"
      ]
     },
     "execution_count": 19,
     "metadata": {},
     "output_type": "execute_result"
    }
   ],
   "source": [
    "a = 1.2345678123456782\n",
    "b = 1.2345678123456783\n",
    "a == b"
   ]
  },
  {
   "cell_type": "code",
   "execution_count": 20,
   "id": "13af5c88-9772-48fe-8a42-e4a387ff66da",
   "metadata": {},
   "outputs": [
    {
     "data": {
      "text/plain": [
       "2.220446049250313e-16"
      ]
     },
     "execution_count": 20,
     "metadata": {},
     "output_type": "execute_result"
    }
   ],
   "source": [
    "float_info.epsilon # the next valid float after 1.0"
   ]
  },
  {
   "cell_type": "code",
   "execution_count": 23,
   "id": "d9aebee9-96c0-4b53-b12a-7c7a19c9e07e",
   "metadata": {},
   "outputs": [
    {
     "data": {
      "text/plain": [
       "False"
      ]
     },
     "execution_count": 23,
     "metadata": {},
     "output_type": "execute_result"
    }
   ],
   "source": [
    "x = 1.0\n",
    "y = x + float_info.epsilon\n",
    "x == y"
   ]
  },
  {
   "cell_type": "code",
   "execution_count": 24,
   "id": "5adbc9b4-b569-49b9-b163-f6feb103e310",
   "metadata": {},
   "outputs": [
    {
     "data": {
      "text/plain": [
       "1.0000000000000002"
      ]
     },
     "execution_count": 24,
     "metadata": {},
     "output_type": "execute_result"
    }
   ],
   "source": [
    "y"
   ]
  },
  {
   "cell_type": "code",
   "execution_count": 25,
   "id": "b8982b09-8571-4f1c-b468-dc051fe6e691",
   "metadata": {},
   "outputs": [
    {
     "data": {
      "text/plain": [
       "True"
      ]
     },
     "execution_count": 25,
     "metadata": {},
     "output_type": "execute_result"
    }
   ],
   "source": [
    "x = 1.0\n",
    "y = x + float_info.epsilon / 2.0 \n",
    "x == y"
   ]
  },
  {
   "cell_type": "code",
   "execution_count": 26,
   "id": "fac3e31c-4131-4853-acce-49b0e5aaddb3",
   "metadata": {},
   "outputs": [
    {
     "data": {
      "text/plain": [
       "1.0"
      ]
     },
     "execution_count": 26,
     "metadata": {},
     "output_type": "execute_result"
    }
   ],
   "source": [
    "y"
   ]
  },
  {
   "cell_type": "code",
   "execution_count": null,
   "id": "516fc9d5-21aa-4fa6-a4ac-f1263e592fa8",
   "metadata": {},
   "outputs": [],
   "source": []
  }
 ],
 "metadata": {
  "kernelspec": {
   "display_name": "Python 3 (ipykernel)",
   "language": "python",
   "name": "python3"
  },
  "language_info": {
   "codemirror_mode": {
    "name": "ipython",
    "version": 3
   },
   "file_extension": ".py",
   "mimetype": "text/x-python",
   "name": "python",
   "nbconvert_exporter": "python",
   "pygments_lexer": "ipython3",
   "version": "3.10.12"
  }
 },
 "nbformat": 4,
 "nbformat_minor": 5
}
