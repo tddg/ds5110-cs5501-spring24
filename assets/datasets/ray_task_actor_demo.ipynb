{
 "cells": [
  {
   "cell_type": "code",
   "execution_count": 1,
   "id": "efed870b-ca53-46f5-af6a-4bda4d8d0e58",
   "metadata": {},
   "outputs": [],
   "source": [
    "#!pip3 install ipywidgets"
   ]
  },
  {
   "cell_type": "code",
   "execution_count": 1,
   "id": "b5350326-a72f-467c-89b7-d00e5da18f0c",
   "metadata": {},
   "outputs": [],
   "source": [
    "import ray\n",
    "import os\n",
    "import time\n",
    "import numpy as np\n",
    "import socket"
   ]
  },
  {
   "cell_type": "code",
   "execution_count": 2,
   "id": "5108ccbb-92cb-48f5-bc27-a96e8b493690",
   "metadata": {},
   "outputs": [
    {
     "data": {
      "application/vnd.jupyter.widget-view+json": {
       "model_id": "9549bc93235a41878f16108441503ac0",
       "version_major": 2,
       "version_minor": 0
      },
      "text/html": [
       "<div class=\"lm-Widget p-Widget lm-Panel p-Panel jp-Cell-outputWrapper\">\n",
       "    <div style=\"margin-left: 50px;display: flex;flex-direction: row;align-items: center\">\n",
       "        <div class=\"jp-RenderedHTMLCommon\" style=\"display: flex; flex-direction: row;\">\n",
       "  <svg viewBox=\"0 0 567 224\" fill=\"none\" xmlns=\"http://www.w3.org/2000/svg\" style=\"height: 3em;\">\n",
       "    <g clip-path=\"url(#clip0_4338_178347)\">\n",
       "        <path d=\"M341.29 165.561H355.29L330.13 129.051C345.63 123.991 354.21 112.051 354.21 94.2307C354.21 71.3707 338.72 58.1807 311.88 58.1807H271V165.561H283.27V131.661H311.8C314.25 131.661 316.71 131.501 319.01 131.351L341.25 165.561H341.29ZM283.29 119.851V70.0007H311.82C331.3 70.0007 342.34 78.2907 342.34 94.5507C342.34 111.271 331.34 119.861 311.82 119.861L283.29 119.851ZM451.4 138.411L463.4 165.561H476.74L428.74 58.1807H416L367.83 165.561H380.83L392.83 138.411H451.4ZM446.19 126.601H398L422 72.1407L446.24 126.601H446.19ZM526.11 128.741L566.91 58.1807H554.35L519.99 114.181L485.17 58.1807H472.44L514.01 129.181V165.541H526.13V128.741H526.11Z\" fill=\"var(--jp-ui-font-color0)\"/>\n",
       "        <path d=\"M82.35 104.44C84.0187 97.8827 87.8248 92.0678 93.1671 87.9146C98.5094 83.7614 105.083 81.5067 111.85 81.5067C118.617 81.5067 125.191 83.7614 130.533 87.9146C135.875 92.0678 139.681 97.8827 141.35 104.44H163.75C164.476 101.562 165.622 98.8057 167.15 96.2605L127.45 56.5605C121.071 60.3522 113.526 61.6823 106.235 60.3005C98.9443 58.9187 92.4094 54.9203 87.8602 49.0574C83.3109 43.1946 81.0609 35.8714 81.5332 28.4656C82.0056 21.0599 85.1679 14.0819 90.4252 8.8446C95.6824 3.60726 102.672 0.471508 110.08 0.0272655C117.487 -0.416977 124.802 1.86091 130.647 6.4324C136.493 11.0039 140.467 17.5539 141.821 24.8501C143.175 32.1463 141.816 39.6859 138 46.0505L177.69 85.7505C182.31 82.9877 187.58 81.4995 192.962 81.4375C198.345 81.3755 203.648 82.742 208.33 85.3976C213.012 88.0532 216.907 91.9029 219.616 96.5544C222.326 101.206 223.753 106.492 223.753 111.875C223.753 117.258 222.326 122.545 219.616 127.197C216.907 131.848 213.012 135.698 208.33 138.353C203.648 141.009 198.345 142.375 192.962 142.313C187.58 142.251 182.31 140.763 177.69 138L138 177.7C141.808 184.071 143.155 191.614 141.79 198.91C140.424 206.205 136.44 212.75 130.585 217.313C124.731 221.875 117.412 224.141 110.004 223.683C102.596 223.226 95.6103 220.077 90.3621 214.828C85.1139 209.58 81.9647 202.595 81.5072 195.187C81.0497 187.779 83.3154 180.459 87.878 174.605C92.4405 168.751 98.9853 164.766 106.281 163.401C113.576 162.035 121.119 163.383 127.49 167.19L167.19 127.49C165.664 124.941 164.518 122.182 163.79 119.3H141.39C139.721 125.858 135.915 131.673 130.573 135.826C125.231 139.98 118.657 142.234 111.89 142.234C105.123 142.234 98.5494 139.98 93.2071 135.826C87.8648 131.673 84.0587 125.858 82.39 119.3H60C58.1878 126.495 53.8086 132.78 47.6863 136.971C41.5641 141.163 34.1211 142.972 26.7579 142.059C19.3947 141.146 12.6191 137.574 7.70605 132.014C2.79302 126.454 0.0813599 119.29 0.0813599 111.87C0.0813599 104.451 2.79302 97.2871 7.70605 91.7272C12.6191 86.1673 19.3947 82.5947 26.7579 81.6817C34.1211 80.7686 41.5641 82.5781 47.6863 86.7696C53.8086 90.9611 58.1878 97.2456 60 104.44H82.35ZM100.86 204.32C103.407 206.868 106.759 208.453 110.345 208.806C113.93 209.159 117.527 208.258 120.522 206.256C123.517 204.254 125.725 201.276 126.771 197.828C127.816 194.38 127.633 190.677 126.253 187.349C124.874 184.021 122.383 181.274 119.205 179.577C116.027 177.88 112.359 177.337 108.826 178.042C105.293 178.746 102.113 180.654 99.8291 183.44C97.5451 186.226 96.2979 189.718 96.3 193.32C96.2985 195.364 96.7006 197.388 97.4831 199.275C98.2656 201.163 99.4132 202.877 100.86 204.32ZM204.32 122.88C206.868 120.333 208.453 116.981 208.806 113.396C209.159 109.811 208.258 106.214 206.256 103.219C204.254 100.223 201.275 98.0151 197.827 96.97C194.38 95.9249 190.676 96.1077 187.348 97.4873C184.02 98.8669 181.274 101.358 179.577 104.536C177.879 107.714 177.337 111.382 178.041 114.915C178.746 118.448 180.653 121.627 183.439 123.911C186.226 126.195 189.717 127.443 193.32 127.44C195.364 127.443 197.388 127.042 199.275 126.259C201.163 125.476 202.878 124.328 204.32 122.88ZM122.88 19.4205C120.333 16.8729 116.981 15.2876 113.395 14.9347C109.81 14.5817 106.213 15.483 103.218 17.4849C100.223 19.4868 98.0146 22.4654 96.9696 25.9131C95.9245 29.3608 96.1073 33.0642 97.4869 36.3922C98.8665 39.7202 101.358 42.4668 104.535 44.1639C107.713 45.861 111.381 46.4036 114.914 45.6992C118.447 44.9949 121.627 43.0871 123.911 40.301C126.195 37.515 127.442 34.0231 127.44 30.4205C127.44 28.3772 127.038 26.3539 126.255 24.4664C125.473 22.5788 124.326 20.8642 122.88 19.4205ZM19.42 100.86C16.8725 103.408 15.2872 106.76 14.9342 110.345C14.5813 113.93 15.4826 117.527 17.4844 120.522C19.4863 123.518 22.4649 125.726 25.9127 126.771C29.3604 127.816 33.0638 127.633 36.3918 126.254C39.7198 124.874 42.4664 122.383 44.1635 119.205C45.8606 116.027 46.4032 112.359 45.6988 108.826C44.9944 105.293 43.0866 102.114 40.3006 99.8296C37.5145 97.5455 34.0227 96.2983 30.42 96.3005C26.2938 96.3018 22.337 97.9421 19.42 100.86ZM100.86 100.86C98.3125 103.408 96.7272 106.76 96.3742 110.345C96.0213 113.93 96.9226 117.527 98.9244 120.522C100.926 123.518 103.905 125.726 107.353 126.771C110.8 127.816 114.504 127.633 117.832 126.254C121.16 124.874 123.906 122.383 125.604 119.205C127.301 116.027 127.843 112.359 127.139 108.826C126.434 105.293 124.527 102.114 121.741 99.8296C118.955 97.5455 115.463 96.2983 111.86 96.3005C109.817 96.299 107.793 96.701 105.905 97.4835C104.018 98.2661 102.303 99.4136 100.86 100.86Z\" fill=\"#00AEEF\"/>\n",
       "    </g>\n",
       "    <defs>\n",
       "        <clipPath id=\"clip0_4338_178347\">\n",
       "            <rect width=\"566.93\" height=\"223.75\" fill=\"white\"/>\n",
       "        </clipPath>\n",
       "    </defs>\n",
       "  </svg>\n",
       "</div>\n",
       "\n",
       "        <table class=\"jp-RenderedHTMLCommon\" style=\"border-collapse: collapse;color: var(--jp-ui-font-color1);font-size: var(--jp-ui-font-size1);\">\n",
       "    <tr>\n",
       "        <td style=\"text-align: left\"><b>Python version:</b></td>\n",
       "        <td style=\"text-align: left\"><b>3.10.12</b></td>\n",
       "    </tr>\n",
       "    <tr>\n",
       "        <td style=\"text-align: left\"><b>Ray version:</b></td>\n",
       "        <td style=\"text-align: left\"><b>2.9.3</b></td>\n",
       "    </tr>\n",
       "    <tr>\n",
       "    <td style=\"text-align: left\"><b>Dashboard:</b></td>\n",
       "    <td style=\"text-align: left\"><b><a href=\"http://127.0.0.1:8265\" target=\"_blank\">http://127.0.0.1:8265</a></b></td>\n",
       "</tr>\n",
       "\n",
       "</table>\n",
       "\n",
       "    </div>\n",
       "</div>\n"
      ],
      "text/plain": [
       "ClientContext(dashboard_url='127.0.0.1:8265', python_version='3.10.12', ray_version='2.9.3', ray_commit='62655e11ed76509b78654b60be67bc59f8f3460a', protocol_version='2023-06-27', _num_clients=1, _context_to_restore=<ray.util.client._ClientContext object at 0x7f2c1db3fe50>)"
      ]
     },
     "execution_count": 2,
     "metadata": {},
     "output_type": "execute_result"
    }
   ],
   "source": [
    "ray.init(address=\"ray://172.31.83.227:10001\")"
   ]
  },
  {
   "cell_type": "markdown",
   "id": "f7fe0710-4e98-492f-a316-2321174c4004",
   "metadata": {},
   "source": [
    "# Ray tasks"
   ]
  },
  {
   "cell_type": "code",
   "execution_count": 3,
   "id": "9b804302-d72a-4a55-a65b-cb0e70a981be",
   "metadata": {},
   "outputs": [],
   "source": [
    "database = [\"learning\", \"Ray\", \"for\", \"ditributed\", \"data \", \"processing\"]"
   ]
  },
  {
   "cell_type": "code",
   "execution_count": 4,
   "id": "4685a004-28a5-4e5b-b298-e6ccaeb3872d",
   "metadata": {},
   "outputs": [],
   "source": [
    "def retrieve(idx):\n",
    "    time.sleep(idx / 10.)\n",
    "    return idx, database[idx]"
   ]
  },
  {
   "cell_type": "code",
   "execution_count": 5,
   "id": "5c913eb0-7925-40eb-91b1-ea31f5c27061",
   "metadata": {},
   "outputs": [
    {
     "name": "stdout",
     "output_type": "stream",
     "text": [
      "[(0, 'learning'), (1, 'Ray'), (2, 'for'), (3, 'ditributed'), (4, 'data '), (5, 'processing')]\n",
      "1.5050773620605469 seconds\n"
     ]
    }
   ],
   "source": [
    "t0 = time.time()\n",
    "results = [retrieve(idx) for idx in range(6)]\n",
    "t1 = time.time()\n",
    "print(results)\n",
    "print(t1-t0, \"seconds\")"
   ]
  },
  {
   "cell_type": "code",
   "execution_count": 6,
   "id": "0f0e2c43-219a-457d-97a6-a84c11e0f7f3",
   "metadata": {},
   "outputs": [],
   "source": [
    "@ray.remote\n",
    "def retrieve_task(idx):\n",
    "    return retrieve(idx)"
   ]
  },
  {
   "cell_type": "code",
   "execution_count": 7,
   "id": "d93d6004-5889-4d8e-8bdc-843d8ab92697",
   "metadata": {},
   "outputs": [
    {
     "name": "stdout",
     "output_type": "stream",
     "text": [
      "[(0, 'learning'), (1, 'Ray'), (2, 'for'), (3, 'ditributed'), (4, 'data '), (5, 'processing')]\n",
      "2.595423698425293 seconds\n"
     ]
    }
   ],
   "source": [
    "t0 = time.time()\n",
    "res_refs = [retrieve_task.remote(idx) for idx in range(6)]\n",
    "results = ray.get(res_refs) # serve as a barrier\n",
    "t1 = time.time()\n",
    "\n",
    "print(results)\n",
    "print(t1-t0, \"seconds\")"
   ]
  },
  {
   "cell_type": "code",
   "execution_count": 8,
   "id": "11d5695d-b423-402d-9f67-90b561d077fd",
   "metadata": {},
   "outputs": [],
   "source": [
    "db_ref = ray.put(database)"
   ]
  },
  {
   "cell_type": "code",
   "execution_count": 9,
   "id": "c40b1462-f10c-4024-9d7b-bd998cda134e",
   "metadata": {},
   "outputs": [
    {
     "data": {
      "text/plain": [
       "ClientObjectRef(00ffffffffffffffffffffffffffffffffffffff0100000002e1f505)"
      ]
     },
     "execution_count": 9,
     "metadata": {},
     "output_type": "execute_result"
    }
   ],
   "source": [
    "db_ref"
   ]
  },
  {
   "cell_type": "code",
   "execution_count": 10,
   "id": "a44e78c4-4d9d-4aba-9246-4ab0eaa15ac8",
   "metadata": {},
   "outputs": [],
   "source": [
    "@ray.remote\n",
    "def retrieve_task_by_ref(idx, db_ref):\n",
    "    time.sleep(idx / 10.)\n",
    "    return idx, db_ref[idx], socket.gethostbyname(socket.gethostname())"
   ]
  },
  {
   "cell_type": "code",
   "execution_count": 11,
   "id": "cf2537d3-7200-4ff2-9a55-1ad76b30a47e",
   "metadata": {},
   "outputs": [
    {
     "name": "stdout",
     "output_type": "stream",
     "text": [
      "[(0, 'learning', '172.31.83.227'), (1, 'Ray', '172.31.83.227'), (2, 'for', '172.31.86.252'), (3, 'ditributed', '172.31.86.252'), (4, 'data ', '172.31.86.157'), (5, 'processing', '172.31.86.157')]\n",
      "0.7968604564666748 seconds\n"
     ]
    }
   ],
   "source": [
    "t0 = time.time()\n",
    "res_refs = [retrieve_task_by_ref.remote(idx, db_ref) for idx in range(6)]\n",
    "results = ray.get(res_refs) # serve as a barrier\n",
    "t1 = time.time()\n",
    "\n",
    "print(results)\n",
    "print(t1-t0, \"seconds\")"
   ]
  },
  {
   "cell_type": "code",
   "execution_count": null,
   "id": "116b0947-52a0-43ef-8072-bed5fd2785fa",
   "metadata": {},
   "outputs": [],
   "source": []
  },
  {
   "cell_type": "code",
   "execution_count": 12,
   "id": "43376b39-50e2-4d47-9d2b-01708db6d3bf",
   "metadata": {},
   "outputs": [],
   "source": [
    "data = np.random.randint(10, size=[10_000])"
   ]
  },
  {
   "cell_type": "code",
   "execution_count": 13,
   "id": "858275e7-9b43-485a-8c6c-e8f3765b7527",
   "metadata": {},
   "outputs": [],
   "source": [
    "num_partitions = 5\n",
    "partition_sz = len(data) // num_partitions\n",
    "input_buckets = [data[i * partition_sz : (i+1) * partition_sz] for i in range(num_partitions)]"
   ]
  },
  {
   "cell_type": "code",
   "execution_count": 14,
   "id": "1d773366-a5fe-4e5e-84cd-13bc714a4e28",
   "metadata": {},
   "outputs": [],
   "source": [
    "@ray.remote\n",
    "def upstream_task(input):\n",
    "    return input, socket.gethostbyname(socket.gethostname())\n",
    "\n",
    "@ray.remote\n",
    "def downstream_task(input):\n",
    "    intermediate_res, hostname = input\n",
    "    return np.sum(intermediate_res), hostname"
   ]
  },
  {
   "cell_type": "code",
   "execution_count": 15,
   "id": "0ef8f616-5e64-48b9-8aef-8438e31030b9",
   "metadata": {},
   "outputs": [
    {
     "name": "stdout",
     "output_type": "stream",
     "text": [
      "[(9055, '172.31.83.227'), (8983, '172.31.86.252'), (8931, '172.31.86.157'), (9152, '172.31.83.227'), (9042, '172.31.86.252')]\n"
     ]
    }
   ],
   "source": [
    "obj_refs = [upstream_task.remote(input) for input in input_buckets]\n",
    "final_refs = [downstream_task.remote(obj_ref) for obj_ref in obj_refs]\n",
    "\n",
    "print(ray.get(final_refs))"
   ]
  },
  {
   "cell_type": "markdown",
   "id": "5a1b218f-6d2e-4c52-86fb-acf3efd6b5ed",
   "metadata": {},
   "source": [
    "# Ray actors"
   ]
  },
  {
   "cell_type": "code",
   "execution_count": 16,
   "id": "89ee30fb-b061-4f2f-9388-04ed4d3fb464",
   "metadata": {},
   "outputs": [],
   "source": [
    "@ray.remote # indicates this is Ray actor class\n",
    "class Actor:\n",
    "    def __init__(self):\n",
    "        self.counts = 0\n",
    "\n",
    "    def increment(self):\n",
    "        self.counts += 1\n",
    "\n",
    "    def counts(self):\n",
    "        return self.counts"
   ]
  },
  {
   "cell_type": "code",
   "execution_count": 17,
   "id": "18ee3855-666c-42f2-8f92-9c3f73622a76",
   "metadata": {},
   "outputs": [],
   "source": [
    "@ray.remote\n",
    "def downstream_task_actor(input, actor):\n",
    "    intermediate_result, hostname = input\n",
    "    actor.increment.remote()\n",
    "    return np.sum(intermediate_result), hostname "
   ]
  },
  {
   "cell_type": "code",
   "execution_count": 18,
   "id": "4f02fe5b-1f8b-486c-917f-e98039f9b9cc",
   "metadata": {},
   "outputs": [],
   "source": [
    "actor = Actor.remote() # initialize an actor"
   ]
  },
  {
   "cell_type": "code",
   "execution_count": 19,
   "id": "9c461d1a-037c-4b1d-a7cc-f88fa6a98dda",
   "metadata": {},
   "outputs": [
    {
     "name": "stdout",
     "output_type": "stream",
     "text": [
      "5\n",
      "[ClientObjectRef(465c0fb8d6cb3cdcffffffffffffffffffffffff0100000001000000), ClientObjectRef(3d3e27c54ed1f5cfffffffffffffffffffffffff0100000001000000), ClientObjectRef(cae5e964086715a4ffffffffffffffffffffffff0100000001000000), ClientObjectRef(bcb4fef46b376cafffffffffffffffffffffffff0100000001000000), ClientObjectRef(88543757a8df6d2fffffffffffffffffffffffff0100000001000000)]\n",
      "[ClientObjectRef(347cc60e0bb3da74ffffffffffffffffffffffff0100000001000000), ClientObjectRef(a02c24b8b7fc0a31ffffffffffffffffffffffff0100000001000000), ClientObjectRef(a631fe8d231813bfffffffffffffffffffffffff0100000001000000), ClientObjectRef(79cc316456d39201ffffffffffffffffffffffff0100000001000000), ClientObjectRef(c1464dc5b2308f10ffffffffffffffffffffffff0100000001000000)]\n",
      "[(9055, '172.31.83.227'), (8983, '172.31.86.252'), (8931, '172.31.83.227'), (9152, '172.31.86.157'), (9042, '172.31.86.252')]\n",
      "0.13525032997131348 seconds\n",
      "0.3364560604095459 seconds\n",
      "10\n",
      "[ClientObjectRef(91581beb08e6c9deffffffffffffffffffffffff0100000001000000), ClientObjectRef(ae46b8beecd25f3affffffffffffffffffffffff0100000001000000), ClientObjectRef(aa3d5d11e415fe88ffffffffffffffffffffffff0100000001000000), ClientObjectRef(a6d6d59239756144ffffffffffffffffffffffff0100000001000000), ClientObjectRef(c7528efcb2fd36edffffffffffffffffffffffff0100000001000000)]\n",
      "[ClientObjectRef(6efb86ef2d286c40ffffffffffffffffffffffff0100000001000000), ClientObjectRef(89af82725933373effffffffffffffffffffffff0100000001000000), ClientObjectRef(5168ff79929289e3ffffffffffffffffffffffff0100000001000000), ClientObjectRef(3e43f22e6ab31cdcffffffffffffffffffffffff0100000001000000), ClientObjectRef(594c3bb38e594811ffffffffffffffffffffffff0100000001000000)]\n",
      "[(9055, '172.31.83.227'), (8983, '172.31.86.252'), (8931, '172.31.83.227'), (9152, '172.31.86.157'), (9042, '172.31.86.157')]\n",
      "0.052327632904052734 seconds\n",
      "0.007752418518066406 seconds\n",
      "15\n",
      "[ClientObjectRef(cf9aed5eec5a308bffffffffffffffffffffffff0100000001000000), ClientObjectRef(4f4ef6205ce35f90ffffffffffffffffffffffff0100000001000000), ClientObjectRef(17ed96eaf1aa4b2affffffffffffffffffffffff0100000001000000), ClientObjectRef(28c7376153a43fb1ffffffffffffffffffffffff0100000001000000), ClientObjectRef(7109b8141612f944ffffffffffffffffffffffff0100000001000000)]\n",
      "[ClientObjectRef(8c4854248414f633ffffffffffffffffffffffff0100000001000000), ClientObjectRef(9a0afb4ce5b46f16ffffffffffffffffffffffff0100000001000000), ClientObjectRef(261bd10b0466d7e8ffffffffffffffffffffffff0100000001000000), ClientObjectRef(b9a008d165a7e804ffffffffffffffffffffffff0100000001000000), ClientObjectRef(a8485d936ac2e7ccffffffffffffffffffffffff0100000001000000)]\n",
      "[(9055, '172.31.83.227'), (8983, '172.31.83.227'), (8931, '172.31.83.227'), (9152, '172.31.83.227'), (9042, '172.31.83.227')]\n",
      "0.0611424446105957 seconds\n",
      "0.010934591293334961 seconds\n",
      "20\n",
      "[ClientObjectRef(0cb7b64917b5af44ffffffffffffffffffffffff0100000001000000), ClientObjectRef(b5f40f7c7d38fc79ffffffffffffffffffffffff0100000001000000), ClientObjectRef(0c025bfe7d0aed89ffffffffffffffffffffffff0100000001000000), ClientObjectRef(a98b912db1b8ed14ffffffffffffffffffffffff0100000001000000), ClientObjectRef(ec502c4fdc3aeab0ffffffffffffffffffffffff0100000001000000)]\n",
      "[ClientObjectRef(b1d906d2acc455b1ffffffffffffffffffffffff0100000001000000), ClientObjectRef(04a86d731af48e35ffffffffffffffffffffffff0100000001000000), ClientObjectRef(f2de7ac0316578aaffffffffffffffffffffffff0100000001000000), ClientObjectRef(878b2330f6be64f9ffffffffffffffffffffffff0100000001000000), ClientObjectRef(38e143cc5dfd1165ffffffffffffffffffffffff0100000001000000)]\n",
      "[(9055, '172.31.83.227'), (8983, '172.31.86.252'), (8931, '172.31.83.227'), (9152, '172.31.83.227'), (9042, '172.31.86.252')]\n",
      "0.06130862236022949 seconds\n",
      "0.006852865219116211 seconds\n",
      "25\n",
      "[ClientObjectRef(9f166bdc2b6b5ec7ffffffffffffffffffffffff0100000001000000), ClientObjectRef(ab92ac1da64ea740ffffffffffffffffffffffff0100000001000000), ClientObjectRef(f50e24e4365654caffffffffffffffffffffffff0100000001000000), ClientObjectRef(beff38a118967a97ffffffffffffffffffffffff0100000001000000), ClientObjectRef(6980fa2d7d749926ffffffffffffffffffffffff0100000001000000)]\n",
      "[ClientObjectRef(9199fdbecdee3d54ffffffffffffffffffffffff0100000001000000), ClientObjectRef(e0513aa905843ccfffffffffffffffffffffffff0100000001000000), ClientObjectRef(5f70e045687d2f9affffffffffffffffffffffff0100000001000000), ClientObjectRef(a4dc031465f905f8ffffffffffffffffffffffff0100000001000000), ClientObjectRef(9e7872a82e7456d9ffffffffffffffffffffffff0100000001000000)]\n",
      "[(9055, '172.31.83.227'), (8983, '172.31.83.227'), (8931, '172.31.86.157'), (9152, '172.31.86.157'), (9042, '172.31.86.252')]\n",
      "0.04739999771118164 seconds\n",
      "0.005487203598022461 seconds\n",
      "30\n",
      "[ClientObjectRef(57f023b5f2c83c93ffffffffffffffffffffffff0100000001000000), ClientObjectRef(7486c9c5cb2b345effffffffffffffffffffffff0100000001000000), ClientObjectRef(9a667646e288b252ffffffffffffffffffffffff0100000001000000), ClientObjectRef(058595f16dc6f278ffffffffffffffffffffffff0100000001000000), ClientObjectRef(72482135a26f4e0fffffffffffffffffffffffff0100000001000000)]\n",
      "[ClientObjectRef(4481ec012324614bffffffffffffffffffffffff0100000001000000), ClientObjectRef(940f384be6ded156ffffffffffffffffffffffff0100000001000000), ClientObjectRef(c35e1f786ff20173ffffffffffffffffffffffff0100000001000000), ClientObjectRef(0d0a4ad0afd5b5d6ffffffffffffffffffffffff0100000001000000), ClientObjectRef(8d3cb6ca70334e93ffffffffffffffffffffffff0100000001000000)]\n",
      "[(9055, '172.31.83.227'), (8983, '172.31.83.227'), (8931, '172.31.83.227'), (9152, '172.31.83.227'), (9042, '172.31.83.227')]\n",
      "0.05018353462219238 seconds\n",
      "0.0077571868896484375 seconds\n",
      "35\n",
      "[ClientObjectRef(575dd43a3ded8278ffffffffffffffffffffffff0100000001000000), ClientObjectRef(e52bcdf406bc5724ffffffffffffffffffffffff0100000001000000), ClientObjectRef(ae2ec164b227894dffffffffffffffffffffffff0100000001000000), ClientObjectRef(9a02fb89192a6825ffffffffffffffffffffffff0100000001000000), ClientObjectRef(8c5fdac94fbfecf4ffffffffffffffffffffffff0100000001000000)]\n",
      "[ClientObjectRef(b812cdadd8a780aaffffffffffffffffffffffff0100000001000000), ClientObjectRef(eb9952338cd40cb8ffffffffffffffffffffffff0100000001000000), ClientObjectRef(0555f28af315df82ffffffffffffffffffffffff0100000001000000), ClientObjectRef(0bd66ef52b7acf8bffffffffffffffffffffffff0100000001000000), ClientObjectRef(52cbda0069bf747fffffffffffffffffffffffff0100000001000000)]\n",
      "[(9055, '172.31.83.227'), (8983, '172.31.86.252'), (8931, '172.31.86.157'), (9152, '172.31.86.157'), (9042, '172.31.86.157')]\n",
      "0.04247093200683594 seconds\n",
      "0.006356716156005859 seconds\n",
      "40\n",
      "[ClientObjectRef(298e3e66d66deed9ffffffffffffffffffffffff0100000001000000), ClientObjectRef(664a780010703836ffffffffffffffffffffffff0100000001000000), ClientObjectRef(5b39a414803e3f8effffffffffffffffffffffff0100000001000000), ClientObjectRef(66736a23c9cfb453ffffffffffffffffffffffff0100000001000000), ClientObjectRef(e7e9e65da7da64adffffffffffffffffffffffff0100000001000000)]\n",
      "[ClientObjectRef(7a278400d21ae920ffffffffffffffffffffffff0100000001000000), ClientObjectRef(312df9639f5af78dffffffffffffffffffffffff0100000001000000), ClientObjectRef(77dc56ecd9a0549affffffffffffffffffffffff0100000001000000), ClientObjectRef(667bfe78fab65b03ffffffffffffffffffffffff0100000001000000), ClientObjectRef(ed8d71ff7ae1bec4ffffffffffffffffffffffff0100000001000000)]\n",
      "[(9055, '172.31.83.227'), (8983, '172.31.83.227'), (8931, '172.31.83.227'), (9152, '172.31.83.227'), (9042, '172.31.83.227')]\n",
      "0.058406829833984375 seconds\n",
      "0.010299444198608398 seconds\n",
      "61.4 ms ± 8.07 ms per loop (mean ± std. dev. of 7 runs, 1 loop each)\n"
     ]
    }
   ],
   "source": [
    "%%timeit\n",
    "\n",
    "t0 = time.time()\n",
    "upstream_task_result_refs = [upstream_task.remote(input) for input in input_buckets]\n",
    "downstream_task_result_refs = [\n",
    "        downstream_task_actor.remote(upstream_task_result_ref, actor) for upstream_task_result_ref in upstream_task_result_refs\n",
    "]\n",
    "\n",
    "final_results = ray.get(downstream_task_result_refs)\n",
    "t1 = time.time()\n",
    "\n",
    "t2 = time.time()\n",
    "print(ray.get(actor.counts.remote()))\n",
    "t3 = time.time()\n",
    "\n",
    "print(upstream_task_result_refs)\n",
    "print(downstream_task_result_refs)\n",
    "print(final_results)\n",
    "print(t1-t0, \"seconds\")\n",
    "print(t3-t2, \"seconds\")"
   ]
  }
 ],
 "metadata": {
  "kernelspec": {
   "display_name": "Python 3 (ipykernel)",
   "language": "python",
   "name": "python3"
  },
  "language_info": {
   "codemirror_mode": {
    "name": "ipython",
    "version": 3
   },
   "file_extension": ".py",
   "mimetype": "text/x-python",
   "name": "python",
   "nbconvert_exporter": "python",
   "pygments_lexer": "ipython3",
   "version": "3.10.12"
  }
 },
 "nbformat": 4,
 "nbformat_minor": 5
}
