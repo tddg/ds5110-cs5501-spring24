{
 "cells": [
  {
   "cell_type": "markdown",
   "id": "4593817b-1258-4ec9-b149-604ab9fa8fe6",
   "metadata": {},
   "source": [
    "# Basic Python multiprocessing"
   ]
  },
  {
   "cell_type": "code",
   "execution_count": 1,
   "id": "85209501-656c-4d83-b80c-c2113ae45b24",
   "metadata": {},
   "outputs": [],
   "source": [
    "from time import sleep, time"
   ]
  },
  {
   "cell_type": "code",
   "execution_count": 3,
   "id": "52366cdb-0157-49e0-ad36-7ff87d9f26d5",
   "metadata": {},
   "outputs": [
    {
     "name": "stdout",
     "output_type": "stream",
     "text": [
      "result: 6\n",
      "0.10050749778747559 seconds\n"
     ]
    }
   ],
   "source": [
    "def add(xy):\n",
    "    sleep(0.1) # imagine this is some complicated, slow calculation\n",
    "    return xy[1] + xy[1]\n",
    "\n",
    "t0 = time()\n",
    "print(\"result:\", add((2,3)))\n",
    "t1 = time()\n",
    "print(t1-t0, \"seconds\")"
   ]
  },
  {
   "cell_type": "code",
   "execution_count": 4,
   "id": "66974d9b-42e1-411b-b34c-5fe080aa357b",
   "metadata": {},
   "outputs": [
    {
     "name": "stdout",
     "output_type": "stream",
     "text": [
      "result: 2\n",
      "result: 4\n",
      "result: 6\n",
      "result: 8\n",
      "result: 10\n",
      "result: 12\n",
      "result: 14\n",
      "result: 16\n",
      "result: 18\n",
      "result: 20\n",
      "1.0040991306304932 seconds\n"
     ]
    }
   ],
   "source": [
    "xy_pairs = [(10,1),(10,2),(10,3),(10,4),(10,5),(10,6),(10,7),(10,8),(10,9),(10,10)]\n",
    "\n",
    "t0 = time()\n",
    "for xy in xy_pairs:\n",
    "    print(\"result:\", add(xy))\n",
    "t1 = time()\n",
    "print(t1-t0, \"seconds\")"
   ]
  },
  {
   "cell_type": "code",
   "execution_count": 5,
   "id": "c38e4d7b-69f0-42b5-909f-e465ee389ff9",
   "metadata": {},
   "outputs": [
    {
     "name": "stdout",
     "output_type": "stream",
     "text": [
      "result: 2\n",
      "result: 4\n",
      "result: 6\n",
      "result: 8\n",
      "result: 10\n",
      "result: 12\n",
      "result: 14\n",
      "result: 16\n",
      "result: 18\n",
      "result: 20\n",
      "0.20257806777954102 seconds\n"
     ]
    }
   ],
   "source": [
    "from multiprocessing import Pool\n",
    "\n",
    "with Pool(5) as p:\n",
    "    t0 = time()\n",
    "    for result in p.map(add, xy_pairs):\n",
    "        print(\"result:\", result)\n",
    "    t1 = time()\n",
    "    print(t1-t0, \"seconds\")"
   ]
  },
  {
   "cell_type": "markdown",
   "id": "53996d54-a586-4e12-8d42-ee99f25674ab",
   "metadata": {},
   "source": [
    "We can see some good speedups from the above examples. That's because the function mostly does sleep and you can pack many \"sleep\" functions with very limited CPU resources. "
   ]
  },
  {
   "cell_type": "markdown",
   "id": "e1a586d0-e8a0-4ab1-b271-1a85dab8fa2b",
   "metadata": {},
   "source": [
    "# Python multiprocessing with some compute-intensive functions"
   ]
  },
  {
   "cell_type": "code",
   "execution_count": 6,
   "id": "984d6596-02ba-4d93-8a60-d5a40c9b3703",
   "metadata": {},
   "outputs": [
    {
     "name": "stdout",
     "output_type": "stream",
     "text": [
      "result: 11\n",
      "result: 12\n",
      "result: 13\n",
      "result: 14\n",
      "result: 15\n",
      "result: 16\n",
      "result: 17\n",
      "result: 18\n",
      "result: 19\n",
      "result: 20\n",
      "0.6887228488922119 seconds (1 process)\n",
      "result: 11\n",
      "result: 12\n",
      "result: 13\n",
      "result: 14\n",
      "result: 15\n",
      "result: 16\n",
      "result: 17\n",
      "result: 18\n",
      "result: 19\n",
      "result: 20\n",
      "0.3569304943084717 seconds (10 processes)\n"
     ]
    }
   ],
   "source": [
    "def add(xy):\n",
    "    for i in range(3000000): # loop 3 million times\n",
    "        pass\n",
    "    return xy[0] + xy[1]\n",
    "\n",
    "with Pool(1) as p:\n",
    "    t0 = time()\n",
    "    for result in p.map(add, xy_pairs):\n",
    "        print(\"result:\", result)\n",
    "    t1 = time()\n",
    "    print(t1-t0, \"seconds (1 process)\")\n",
    "\n",
    "with Pool(10) as p:\n",
    "    t0 = time()\n",
    "    for result in p.map(add, xy_pairs):\n",
    "        print(\"result:\", result)\n",
    "    t1 = time()\n",
    "    print(t1-t0, \"seconds (10 processes)\")"
   ]
  },
  {
   "cell_type": "code",
   "execution_count": 7,
   "id": "072260f6-36d9-46d7-b02e-643af9c5cc3f",
   "metadata": {},
   "outputs": [
    {
     "data": {
      "text/plain": [
       "1.929571330761652"
      ]
     },
     "execution_count": 7,
     "metadata": {},
     "output_type": "execute_result"
    }
   ],
   "source": [
    "0.6887228488922119 / 0.3569304943084717"
   ]
  },
  {
   "cell_type": "markdown",
   "id": "701bfbbc-a643-4d93-832a-936c663a3c3b",
   "metadata": {},
   "source": [
    "For compute-intensive tasks, the \"speedup\" I can achieve is really bounded by the number of CPU cores you have on that computer, no matter how many processes I actually launched (in the above example, 10 processes). In this case, you can pretty much guess how many CPU cores I have on my EC2 VM. "
   ]
  },
  {
   "cell_type": "markdown",
   "id": "88a7c867-2bdf-4f2c-a26b-28adba3829dc",
   "metadata": {},
   "source": [
    "# Python thread-level parallelism"
   ]
  },
  {
   "cell_type": "code",
   "execution_count": 8,
   "id": "5bb28d3f-551d-4cee-a7de-7083ce9bf838",
   "metadata": {},
   "outputs": [],
   "source": [
    "import threading\n",
    "\n",
    "def cpu_bound_task():\n",
    "    for i in range(3000000):\n",
    "        pass"
   ]
  },
  {
   "cell_type": "code",
   "execution_count": 9,
   "id": "de3f0c26-7d89-4f49-9077-7fcc2a175297",
   "metadata": {},
   "outputs": [
    {
     "name": "stdout",
     "output_type": "stream",
     "text": [
      "0.06687521934509277 seconds (1 single python thread)\n"
     ]
    }
   ],
   "source": [
    "threads = []\n",
    "t0 = time()\n",
    "for _ in range(1):\n",
    "    thread = threading.Thread(target=cpu_bound_task)\n",
    "    thread.start()\n",
    "    threads.append(thread) # insert created thread objcet into the list\n",
    "\n",
    "for thread in threads:\n",
    "    thread.join() # parent thread waits for child thread to complete and join\n",
    "t1 = time()\n",
    "\n",
    "print(t1-t0, \"seconds (1 single python thread)\")"
   ]
  },
  {
   "cell_type": "code",
   "execution_count": 12,
   "id": "f3b8ddd1-4e66-41f6-8429-3f0fd644d0f3",
   "metadata": {},
   "outputs": [
    {
     "name": "stdout",
     "output_type": "stream",
     "text": [
      "0.6619820594787598 seconds (10 python threads)\n"
     ]
    }
   ],
   "source": [
    "threads = []\n",
    "t0 = time()\n",
    "for _ in range(10):\n",
    "    thread = threading.Thread(target=cpu_bound_task)\n",
    "    thread.start()\n",
    "    threads.append(thread) # insert created thread objcet into the list\n",
    "\n",
    "for thread in threads:\n",
    "    thread.join() # parent thread waits for child thread to complete and join\n",
    "t1 = time()\n",
    "\n",
    "print(t1-t0, \"seconds (10 python threads)\")"
   ]
  },
  {
   "cell_type": "code",
   "execution_count": 11,
   "id": "65d81d33-38e9-46f8-9464-f2a4d55b8eef",
   "metadata": {},
   "outputs": [
    {
     "data": {
      "text/plain": [
       "4.963988662899517"
      ]
     },
     "execution_count": 11,
     "metadata": {},
     "output_type": "execute_result"
    }
   ],
   "source": [
    "0.331967830657959 /0.06687521934509277"
   ]
  },
  {
   "cell_type": "markdown",
   "id": "da267c1f-ac4e-4b77-9fc5-51fc3d3084b5",
   "metadata": {},
   "source": [
    "Python threads share the virtual memory address space, therefore different threads created within the same process see the same copy of global variable 'total'. "
   ]
  },
  {
   "cell_type": "markdown",
   "id": "6e5cee62-b789-4553-86b9-4522d0924af1",
   "metadata": {},
   "source": [
    "# Global variable in Python threads vs. Python processes"
   ]
  },
  {
   "cell_type": "code",
   "execution_count": 16,
   "id": "872ef68f-1c02-4f10-a7f7-dcc4119503c6",
   "metadata": {},
   "outputs": [],
   "source": [
    "total = 0 # define a global var\n",
    "\n",
    "def increment(amt):\n",
    "    global total\n",
    "    total += amt\n",
    "    print(f\"sub total so far: {total}\\n\")"
   ]
  },
  {
   "cell_type": "code",
   "execution_count": 17,
   "id": "025d6ec4-1a29-4dce-8726-6425bdcf40aa",
   "metadata": {},
   "outputs": [
    {
     "name": "stdout",
     "output_type": "stream",
     "text": [
      "sub total so far: 5\n",
      "\n",
      "sub total so far: 10\n",
      "\n",
      "sub total so far: 15\n",
      "\n",
      "sub total so far: 20\n",
      "\n",
      "sub total so far: 25\n",
      "\n",
      "sub total so far: 30\n",
      "\n",
      "sub total so far: 35\n",
      "\n",
      "sub total so far: 40\n",
      "\n",
      "Final result: 40\n"
     ]
    }
   ],
   "source": [
    "threads = []\n",
    "for _ in range(8):\n",
    "    thread = threading.Thread(target=increment, args=(5,))\n",
    "    thread.start()\n",
    "    threads.append(thread) # insert created thread objcet into the list\n",
    "\n",
    "for thread in threads:\n",
    "    thread.join() # parent thread waits for child thread to complete and join\n",
    "\n",
    "print(\"Final result:\", total)"
   ]
  },
  {
   "cell_type": "code",
   "execution_count": 22,
   "id": "388256ff-e919-49ae-a71b-21ec394c705d",
   "metadata": {},
   "outputs": [
    {
     "name": "stdout",
     "output_type": "stream",
     "text": [
      "2233: sub total so far: 5\n",
      "2232: sub total so far: 5\n",
      "\n",
      "2233: sub total so far: 10\n",
      "\n",
      "\n",
      "2233: sub total so far: 15\n",
      "\n",
      "2233: sub total so far: 20\n",
      "\n",
      "2232: sub total so far: 10\n",
      "2233: sub total so far: 25\n",
      "\n",
      "\n",
      "2233: sub total so far: 30\n",
      "\n"
     ]
    }
   ],
   "source": [
    "# using multiprocessing\n",
    "import os\n",
    "\n",
    "total = 0\n",
    "\n",
    "def increment(amt):\n",
    "    pid = os.getpid() # get the process identifier\n",
    "    global total\n",
    "    total += amt\n",
    "    print(f\"{pid}: sub total so far: {total}\\n\")\n",
    "\n",
    "with Pool(2) as p:\n",
    "    p.map(increment, [5,5,5,5,5,5,5,5])"
   ]
  },
  {
   "cell_type": "code",
   "execution_count": 23,
   "id": "e1dc2b20-10b0-45c7-a869-39d502cbf6b1",
   "metadata": {},
   "outputs": [
    {
     "data": {
      "text/plain": [
       "0"
      ]
     },
     "execution_count": 23,
     "metadata": {},
     "output_type": "execute_result"
    }
   ],
   "source": [
    "total "
   ]
  },
  {
   "cell_type": "markdown",
   "id": "f6365a7b-f804-435b-9a7c-da1f10432649",
   "metadata": {},
   "source": [
    "However, in the case of multi-process parallelism, things become a bit complicated. Child processes created from a parent process also create a separate copy of the global variable 'total' in their own virtual memory address space. Each child process will then work on its own copy of 'total'. "
   ]
  }
 ],
 "metadata": {
  "kernelspec": {
   "display_name": "Python 3 (ipykernel)",
   "language": "python",
   "name": "python3"
  },
  "language_info": {
   "codemirror_mode": {
    "name": "ipython",
    "version": 3
   },
   "file_extension": ".py",
   "mimetype": "text/x-python",
   "name": "python",
   "nbconvert_exporter": "python",
   "pygments_lexer": "ipython3",
   "version": "3.10.12"
  }
 },
 "nbformat": 4,
 "nbformat_minor": 5
}
