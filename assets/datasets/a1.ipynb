{
 "cells": [
  {
   "cell_type": "code",
   "execution_count": null,
   "id": "ccf3af28-0876-4a08-97a6-abb3b827f5f0",
   "metadata": {},
   "outputs": [],
   "source": [
    "\"\"\"\n",
    "This is a skeleton of Assignment 1 for DS5110/CS5501 Spring 2024 (UVA).\n",
    "NOTE you will need to change the .ipynb file name by following the naming convention.\n",
    "Code should be commented well. \n",
    "Feel free to import any missing packages or add extra cells as you see fit. \n",
    "\"\"\"\n",
    "import dask\n",
    "from dask.distributed import Client\n",
    "import dask.dataframe as dd\n",
    "import time\n",
    "import json\n",
    "import numpy as np"
   ]
  },
  {
   "cell_type": "code",
   "execution_count": null,
   "id": "e7052a95-e1ac-45f2-8db4-b86fff29de96",
   "metadata": {},
   "outputs": [],
   "source": [
    "# TODO: fill out the private IP address of your Dask scheduler and port here when creating a Dask client object\n",
    "client = Client('<Private_IP_of_Dask_Scheduler>:8786')\n",
    "client = client.restart()\n",
    "print(client)"
   ]
  },
  {
   "cell_type": "code",
   "execution_count": null,
   "id": "bbf9080f-6152-4e9b-a26c-6938127492ac",
   "metadata": {},
   "outputs": [],
   "source": [
    "%%time\n",
    "\n",
    "# You should have already extracted the two .CSV files from stackoverflow.zip\n",
    "# Load the .CSV files into the Dask dataframes\n",
    "questions = dd.read_csv('/home/ubuntu/questions.csv', sample=2**30, assume_missing=True)\n",
    "question_tags = dd.read_csv('/home/ubuntu/question_tags.csv', sample=2**30, assume_missing=True)"
   ]
  },
  {
   "cell_type": "code",
   "execution_count": null,
   "id": "cee1f11d-5734-4bff-af36-7a205155eb74",
   "metadata": {},
   "outputs": [],
   "source": [
    "%%time\n",
    "# Task 1\n",
    "\n",
    "# TODO: Start your implementation below this line"
   ]
  },
  {
   "cell_type": "code",
   "execution_count": null,
   "id": "243c58de-758c-4cad-8103-0df07fe72681",
   "metadata": {},
   "outputs": [],
   "source": [
    "%%time\n",
    "# Task 2\n",
    "\n",
    "# TODO: Start your implementation below this line"
   ]
  },
  {
   "cell_type": "code",
   "execution_count": null,
   "id": "3707f87a-41d6-49ba-9d50-23e7b3039dbe",
   "metadata": {},
   "outputs": [],
   "source": [
    "%%time\n",
    "# Task 3\n",
    "\n",
    "# TODO: Start your implementation below this line"
   ]
  },
  {
   "cell_type": "code",
   "execution_count": null,
   "id": "ecc2dc12-f472-46df-a076-f7d10eff3350",
   "metadata": {},
   "outputs": [],
   "source": [
    "%%time\n",
    "# Task 4\n",
    "\n",
    "# TODO: Start your implementation below this line"
   ]
  },
  {
   "cell_type": "code",
   "execution_count": null,
   "id": "707364cd-4886-4daa-88cb-3714f8cadddc",
   "metadata": {},
   "outputs": [],
   "source": [
    "%%time\n",
    "# Task 5\n",
    "\n",
    "# TODO: Start your implementation below this line"
   ]
  },
  {
   "cell_type": "code",
   "execution_count": null,
   "id": "4ed288fa-c22b-4c38-a77c-b68785ddd8a3",
   "metadata": {},
   "outputs": [],
   "source": [
    "%%time\n",
    "# Task 6\n",
    "\n",
    "# TODO: Start your implementation below this line"
   ]
  },
  {
   "cell_type": "code",
   "execution_count": null,
   "id": "d45b45a5-eaa7-4fa8-b1f2-231e938e43fc",
   "metadata": {},
   "outputs": [],
   "source": [
    "%%time\n",
    "# Task 7: kill the third and fourth worker and repeat Task 5 with two workers \n",
    "\n",
    "# TODO: Start your implementation below this line"
   ]
  },
  {
   "cell_type": "code",
   "execution_count": null,
   "id": "5997c48e-43e6-45c2-a4b7-a71a75306787",
   "metadata": {},
   "outputs": [],
   "source": [
    "# Add report for Task 7"
   ]
  },
  {
   "cell_type": "code",
   "execution_count": null,
   "id": "51817646-5154-4967-8f64-7b4d8fc32417",
   "metadata": {},
   "outputs": [],
   "source": [
    "%%time\n",
    "# Task 8: kill the third and fourth worker and repeat Task 6 with two workers \n",
    "\n",
    "# TODO: Start your implementation below this line"
   ]
  },
  {
   "cell_type": "code",
   "execution_count": null,
   "id": "6cabc200-a5d0-4196-a53c-a2c55e006bbc",
   "metadata": {},
   "outputs": [],
   "source": [
    "# Add report for Task 8"
   ]
  }
 ],
 "metadata": {
  "kernelspec": {
   "display_name": "Python 3 (ipykernel)",
   "language": "python",
   "name": "python3"
  },
  "language_info": {
   "codemirror_mode": {
    "name": "ipython",
    "version": 3
   },
   "file_extension": ".py",
   "mimetype": "text/x-python",
   "name": "python",
   "nbconvert_exporter": "python",
   "pygments_lexer": "ipython3",
   "version": "3.10.12"
  }
 },
 "nbformat": 4,
 "nbformat_minor": 5
}
